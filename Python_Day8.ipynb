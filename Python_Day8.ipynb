{
 "cells": [
  {
   "cell_type": "code",
   "execution_count": 1,
   "id": "a1a1afa7-639d-4c49-9e40-62bab0800d4a",
   "metadata": {},
   "outputs": [],
   "source": [
    "#sets \n",
    "#unorderd and immutable \n",
    "#list and tuple -------orderd \n",
    "#it start with curly braces \n",
    "#it does not allow duplicate value \n",
    "#use cases \n",
    "#it helps in removing duplicate values\n",
    "#union ,intersection and difference(mathematical operation)"
   ]
  },
  {
   "cell_type": "code",
   "execution_count": 2,
   "id": "90d0d750-e89b-4ef1-821f-0e3753da7dff",
   "metadata": {},
   "outputs": [
    {
     "name": "stdout",
     "output_type": "stream",
     "text": [
      "{1, 2, 3, 4}\n"
     ]
    }
   ],
   "source": [
    "my_set={1,2,3,4}\n",
    "print(my_set)"
   ]
  },
  {
   "cell_type": "code",
   "execution_count": 5,
   "id": "92b965e6-c996-47d6-b1f9-e156b8708df8",
   "metadata": {},
   "outputs": [
    {
     "name": "stdout",
     "output_type": "stream",
     "text": [
      "{1, 2, 3, 4, 5}\n"
     ]
    }
   ],
   "source": [
    "my_set2={1,2,3,4,2,3,4,1,2,3,4,5}\n",
    "print(my_set2)"
   ]
  },
  {
   "cell_type": "code",
   "execution_count": 8,
   "id": "b8f2303c-d085-41b5-a64e-0c090935d8eb",
   "metadata": {},
   "outputs": [
    {
     "name": "stdout",
     "output_type": "stream",
     "text": [
      "{'banana', 'guava', 'apple'}\n"
     ]
    }
   ],
   "source": [
    "fruits={'apple','banana','guava'}\n",
    "print(fruits)\n"
   ]
  },
  {
   "cell_type": "code",
   "execution_count": 9,
   "id": "602014a2-7347-46a9-94c6-62099a715990",
   "metadata": {},
   "outputs": [
    {
     "name": "stdout",
     "output_type": "stream",
     "text": [
      "{'banana', 'guava', 'apple'}\n"
     ]
    }
   ],
   "source": [
    "fruits={'apple','banana','guava','apple'}\n",
    "print(fruits)"
   ]
  },
  {
   "cell_type": "code",
   "execution_count": 14,
   "id": "38b0b4bb-828a-400a-8ab4-0c8f4020cef6",
   "metadata": {},
   "outputs": [
    {
     "name": "stdout",
     "output_type": "stream",
     "text": [
      "{'banana', 'APPLE', 'guava', 'apple', 'Apple'}\n"
     ]
    }
   ],
   "source": [
    "fruits={'apple','banana','guava','APPLE','Apple'}\n",
    "print(fruits)"
   ]
  },
  {
   "cell_type": "code",
   "execution_count": 17,
   "id": "a761a100-82d8-46c4-a1ba-1002e5e64ea0",
   "metadata": {},
   "outputs": [
    {
     "name": "stdout",
     "output_type": "stream",
     "text": [
      "{'l', 'h', 'e', 'o'}\n"
     ]
    }
   ],
   "source": [
    "letters=set('hello')\n",
    "print(letters)"
   ]
  },
  {
   "cell_type": "code",
   "execution_count": 26,
   "id": "1ae0a00f-2e86-4389-bfff-c00ed05982a1",
   "metadata": {},
   "outputs": [
    {
     "ename": "TypeError",
     "evalue": "'int' object is not iterable",
     "output_type": "error",
     "traceback": [
      "\u001b[1;31m---------------------------------------------------------------------------\u001b[0m",
      "\u001b[1;31mTypeError\u001b[0m                                 Traceback (most recent call last)",
      "Cell \u001b[1;32mIn[26], line 1\u001b[0m\n\u001b[1;32m----> 1\u001b[0m a\u001b[38;5;241m=\u001b[39m\u001b[38;5;28;43mset\u001b[39;49m\u001b[43m(\u001b[49m\u001b[38;5;241;43m123456789\u001b[39;49m\u001b[43m)\u001b[49m\n\u001b[0;32m      2\u001b[0m \u001b[38;5;28mprint\u001b[39m(a)\n",
      "\u001b[1;31mTypeError\u001b[0m: 'int' object is not iterable"
     ]
    }
   ],
   "source": [
    "a=set(123456789)\n",
    "print(a)"
   ]
  },
  {
   "cell_type": "code",
   "execution_count": 21,
   "id": "1aaa1c82-d7d4-4320-a0d9-c7d28476a9a8",
   "metadata": {},
   "outputs": [
    {
     "name": "stdout",
     "output_type": "stream",
     "text": [
      "{'4', '1', '5', '6', '9', '8', '2', '7', '3'}\n"
     ]
    }
   ],
   "source": [
    "a=set('123456789')\n",
    "print(a)\n"
   ]
  },
  {
   "cell_type": "code",
   "execution_count": 27,
   "id": "65530f5a-b0dd-4adb-948a-2026ecfd7521",
   "metadata": {},
   "outputs": [
    {
     "name": "stdout",
     "output_type": "stream",
     "text": [
      "set()\n",
      "<class 'set'>\n"
     ]
    }
   ],
   "source": [
    "empty_set=set()\n",
    "print(empty_set)\n",
    "print(type(empty_set))\n"
   ]
  },
  {
   "cell_type": "code",
   "execution_count": 29,
   "id": "93c96b91-e5b6-422f-8ba7-d2447f84326d",
   "metadata": {},
   "outputs": [
    {
     "name": "stdout",
     "output_type": "stream",
     "text": [
      "{1, 2, 3, 4}\n"
     ]
    }
   ],
   "source": [
    "#set operation \n",
    "#add\n",
    "#delete \n",
    "\n",
    "#add\n",
    "numbers={1,2,3}\n",
    "numbers.add(4)\n",
    "print(numbers)"
   ]
  },
  {
   "cell_type": "code",
   "execution_count": 33,
   "id": "8769d845-8e24-4c19-8c02-9054f636c0b8",
   "metadata": {},
   "outputs": [
    {
     "name": "stdout",
     "output_type": "stream",
     "text": [
      "{1, 2}\n"
     ]
    }
   ],
   "source": [
    "numbers={1,2,3}\n",
    "numbers.remove(3)\n",
    "print(numbers)"
   ]
  },
  {
   "cell_type": "markdown",
   "id": "89ca2ee6-206a-4a2f-abf5-9b6e8995a936",
   "metadata": {},
   "source": [
    "#discard\n",
    "numbers.discard(6)\n",
    "print(numbers)"
   ]
  },
  {
   "cell_type": "code",
   "execution_count": 35,
   "id": "3ed39c1b-a3ad-4ece-9468-36da8db95381",
   "metadata": {},
   "outputs": [],
   "source": [
    "#remove and discard method both are used to remove the element from the set but the discard \n",
    "# method does not throw any error if that specific element is not found "
   ]
  },
  {
   "cell_type": "code",
   "execution_count": 36,
   "id": "112cc5e8-8d8c-4a3c-94b5-34e80bcc58f6",
   "metadata": {},
   "outputs": [
    {
     "name": "stdout",
     "output_type": "stream",
     "text": [
      "True\n"
     ]
    }
   ],
   "source": [
    "#membership checking\n",
    "numbers={1,2,3,4,5,6,7}\n",
    "print(2 in numbers)"
   ]
  },
  {
   "cell_type": "code",
   "execution_count": 37,
   "id": "0d15fe1c-24d7-44f2-90e9-ad46c5cbbe8d",
   "metadata": {},
   "outputs": [
    {
     "name": "stdout",
     "output_type": "stream",
     "text": [
      "False\n"
     ]
    }
   ],
   "source": [
    "print( 8 in numbers)"
   ]
  },
  {
   "cell_type": "code",
   "execution_count": 38,
   "id": "d32c7440-04c8-42fc-aae4-be8ca5a3c5da",
   "metadata": {},
   "outputs": [
    {
     "name": "stdout",
     "output_type": "stream",
     "text": [
      "False\n"
     ]
    }
   ],
   "source": [
    "print(10 in numbers)"
   ]
  },
  {
   "cell_type": "code",
   "execution_count": 41,
   "id": "c0cf4bbd-8afc-45cd-bc90-a4e5b8d42e9c",
   "metadata": {},
   "outputs": [
    {
     "name": "stdout",
     "output_type": "stream",
     "text": [
      "set()\n"
     ]
    }
   ],
   "source": [
    "#clear method all the elements from the set but the structure of the set is not deleted\n",
    "numbers.clear()\n",
    "print(numbers)"
   ]
  },
  {
   "cell_type": "code",
   "execution_count": 42,
   "id": "3b00f058-aff4-4677-be31-d4dd5b678e28",
   "metadata": {},
   "outputs": [
    {
     "ename": "SyntaxError",
     "evalue": "invalid syntax (103925561.py, line 3)",
     "output_type": "error",
     "traceback": [
      "\u001b[1;36m  Cell \u001b[1;32mIn[42], line 3\u001b[1;36m\u001b[0m\n\u001b[1;33m    del.a\u001b[0m\n\u001b[1;37m       ^\u001b[0m\n\u001b[1;31mSyntaxError\u001b[0m\u001b[1;31m:\u001b[0m invalid syntax\n"
     ]
    }
   ],
   "source": [
    "#delete\n",
    "a={1,2,3}\n",
    "del.a\n",
    "print(a)"
   ]
  },
  {
   "cell_type": "code",
   "execution_count": 43,
   "id": "751f680a-3895-406f-987a-a222c13b10c4",
   "metadata": {},
   "outputs": [
    {
     "data": {
      "text/plain": [
       "1"
      ]
     },
     "execution_count": 43,
     "metadata": {},
     "output_type": "execute_result"
    }
   ],
   "source": [
    "#pop method \n",
    "numbers={1,2,3,4}\n",
    "numbers.pop()"
   ]
  },
  {
   "cell_type": "code",
   "execution_count": null,
   "id": "1993aa11-2913-4e8c-97af-dff01696c06a",
   "metadata": {},
   "outputs": [],
   "source": []
  }
 ],
 "metadata": {
  "kernelspec": {
   "display_name": "Python 3 (ipykernel)",
   "language": "python",
   "name": "python3"
  },
  "language_info": {
   "codemirror_mode": {
    "name": "ipython",
    "version": 3
   },
   "file_extension": ".py",
   "mimetype": "text/x-python",
   "name": "python",
   "nbconvert_exporter": "python",
   "pygments_lexer": "ipython3",
   "version": "3.10.11"
  }
 },
 "nbformat": 4,
 "nbformat_minor": 5
}
